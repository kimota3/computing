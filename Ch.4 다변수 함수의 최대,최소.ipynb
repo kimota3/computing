{
 "cells": [
  {
   "cell_type": "markdown",
   "id": "a0d3a18c",
   "metadata": {},
   "source": [
    "# 다변수 함수\n",
    "\n",
    "■ 다변수 함수\n",
    "\n",
    "두 개의 독립 변수 $x, y$ 에 대응하여 하나의 변수 $z$ 가 정해지는 함수 $f$ 를\n",
    "$$\n",
    "z=f(x, y)\n",
    "$$\n",
    "로 나타내자. 마찬가지로 세 개의 독립변수 $x, y, z$ 에 대응하여 하나의 변수 $w$ 가 정해지는 함수 $g$ 를 생 각하여\n",
    "$$\n",
    "w=g(x, y, z)\n",
    "$$\n",
    "로 나타낼 수 있다. 이 장에서는 이와 같이 두 개 이상의 독립 변수를 갖는 함수들을 다룰 것인데 위에 서의 함수 $f$ 와 $g$ 를 정의역에 해당하는 독립변수의 개수에 따라 각각 2 변수함수 그리고 3 변수함수라 한 다. 일반적으로 다음과 같이 정의한다.\n",
    "\n",
    "[정의 11.1] (다변수 함수)\n",
    "일반적으로 $n$ 개의 독립변수 $x_{1}, x_{2}, \\cdots, x_{n}$ 에 하나의 변수 $y$ 가 대응하는 함수 $f$ 를\n",
    "$$\n",
    "y=f\\left(x_{1}, x_{2}, \\cdots, x_{n}\\right)\n",
    "$$\n",
    "로 나타내고 이를 $n$-변수함수(function of $n$ variables)라 한다. 정의역에 해당하는 두 개 이상의 독립변수를 갖는 함수를 통틀어 다변수함수(function of several variables)라 한다."
   ]
  },
  {
   "cell_type": "markdown",
   "id": "7abf7461",
   "metadata": {},
   "source": [
    "[예제]\n",
    "$f(x, y)=x^{2}-2 x y+3 y^{2}$ 에 대한 다음 값들을 구하여라.\n",
    "\n",
    "(1) $f(3,0)$\n",
    "\n",
    "(2) $f(-1,2)$\n",
    "\n",
    "풀 \n",
    "(1) $f(3,0)=3^{2}-2 \\cdot 3 \\cdot 0+3 \\cdot 0^{2}=9-0+0=9$\n",
    "\n",
    "(2) $f(-1,2)=(-1)^{2}-2 \\cdot(-1) \\cdot 2+3 \\cdot 2^{2}=1+4+12=17$\n",
    "\n",
    "[예제]\n",
    "다음 2 변수함수가 정의 되는 영역을 구하여라.\n",
    "\n",
    "(1) $f(x, y)=\\frac{x-y}{x y}$\n",
    "\n",
    "(2) $f(x)=\\sqrt{x-y^{2}}$\n",
    "\n",
    "풀 $\\quad\n",
    "\n",
    "(1) x y \\neq 0$ 이어야 하므로 정의역은 이 $\\quad\\{(x, y) \\mid x \\neq 0$ and $y \\neq 0\\}$\n",
    "즉 $x$ 축과 $y$ 축을 제외한 $\\mathrm{R}^{2}$ 상의 모든 점의 집합이다.\n",
    "\n",
    "(2) $x-y^{2} \\geqq 0$ 이어야 하므로 정의역은\n",
    "$$\n",
    "\\left\\{(x, y) \\mid y^{2} \\leqq x\\right\\}\n",
    "$$\n",
    "즉 포물선 $x=y^{2}$ 을 포함한 오른쪽 엉역이다."
   ]
  },
  {
   "cell_type": "markdown",
   "id": "a0b42b62",
   "metadata": {},
   "source": [
    "바 이변수 함수의 그래프\n",
    "이변수 함수 $z=f(x, y)$ 의 그래프는 3 차원 공간 내의 $(x, y, f(x, y))$ 형태의 점들의 집합으로\n",
    "\n",
    "$$\n",
    "\\left\\{(x, y, z) \\in \\mathbb{R}^{3} \\mid z=f(x, y)\\right\\}\n",
    "$$\n",
    "이다. 예제들을 통하여 이변수 함수의 그래프를 그려보자.\n",
    "\n",
    "[예제]\n",
    "\n",
    "방정식 $x^{2}-6 x+y^{2}+6 y+z^{2}-8 z+30=0$ 의 그래프를 그려라.\n",
    "주어진 방정식을 변형하여\n",
    "\n",
    "$$\n",
    "x^{2}-6 x+9+y^{2}+6 y+9+z^{2}-8 z+16=-30+9+9+16\n",
    "$$\n",
    "\n",
    "좌변을 완전제곱식들의 합으로 고치자.\n",
    "\n",
    "$$\n",
    "(x-3)^{2}+(y+3)^{2}+(z-4)^{2}=4\n",
    "$$\n",
    "\n",
    "이것은 중심이 $(3,3,-4)$ 이고 반지름이 2 인 구면을 나타낸다. 따라서 주 어진 방정식의 그래프를 좌표공간에 그리면 그림과 같다.\n",
    "[그림 15.5]"
   ]
  },
  {
   "cell_type": "markdown",
   "id": "fc94a4f7",
   "metadata": {},
   "source": [
    "[예제]\n",
    "\n",
    "이변수 함수 $f(x,y)= x^2 + y^2$의 그래프를 그려라. \n"
   ]
  },
  {
   "cell_type": "code",
   "execution_count": null,
   "id": "9960aa3e",
   "metadata": {},
   "outputs": [],
   "source": []
  }
 ],
 "metadata": {
  "kernelspec": {
   "display_name": "Python 3",
   "language": "python",
   "name": "python3"
  },
  "language_info": {
   "codemirror_mode": {
    "name": "ipython",
    "version": 3
   },
   "file_extension": ".py",
   "mimetype": "text/x-python",
   "name": "python",
   "nbconvert_exporter": "python",
   "pygments_lexer": "ipython3",
   "version": "3.8.8"
  }
 },
 "nbformat": 4,
 "nbformat_minor": 5
}
