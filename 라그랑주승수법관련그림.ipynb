{
 "cells": [
  {
   "cell_type": "code",
   "execution_count": null,
   "id": "f2cce3d8",
   "metadata": {},
   "outputs": [],
   "source": [
    "import numpy as np\n",
    "import matplotlib.pyplot as plt\n",
    "\n",
    "# 목적함수 f(x) = x1^2 + x2^2\n",
    "def f1(x1, x2):\n",
    "    return x1 ** 2 + x2 ** 2\n",
    "\n",
    "x1 = np.linspace(-5, 5, 100)\n",
    "x2 = np.linspace(-3, 3, 100)\n",
    "X1, X2 = np.meshgrid(x1, x2)\n",
    "Y = f1(X1, X2)\n",
    "\n",
    "# 등식 제한조건 방정식 g(x) = x1 + x2 - 1 = 0\n",
    "x2_g = 1 - x1\n",
    "\n",
    "plt.contour(X1, X2, Y, colors=\"gray\", levels=[0.5, 2, 8, 32])\n",
    "plt.plot(x1, x2_g, 'g-')\n",
    "\n",
    "plt.plot([0], [0], 'rP')\n",
    "plt.plot([0.5], [0.5], 'ro', ms=10)\n",
    "\n",
    "plt.xlim(-5, 5)\n",
    "plt.ylim(-3, 3)\n",
    "plt.xticks(np.linspace(-4, 4, 9))\n",
    "plt.xlabel(\"$x_1$\")\n",
    "plt.ylabel(\"$x_2$\")\n",
    "plt.title(\"test\")\n",
    "plt.show()"
   ]
  },
  {
   "cell_type": "code",
   "execution_count": 2,
   "id": "ed764aa5",
   "metadata": {},
   "outputs": [
    {
     "data": {
      "image/png": "[encoded data removed]",
      "text/latex": [
       "$\\displaystyle \\frac{\\partial}{\\partial x} \\left(x^{2} y + x^{2} + y^{2} + 4\\right) = 2 x y + 2 x$"
      ],
      "text/plain": [
       "∂ ⎛ 2      2    2    ⎞              \n",
       "──⎝x ⋅y + x  + y  + 4⎠ = 2⋅x⋅y + 2⋅x\n",
       "∂x                                  "
      ]
     },
     "execution_count": 2,
     "metadata": {},
     "output_type": "execute_result"
    }
   ],
   "source": [
    "from sympy import * # sympy 모듈에서 모두(*) 불러옴\n",
    "x,y = symbols('x y')\n",
    "init_printing() # 수식을 LaTex 스타일로 표시한다.\n",
    "\n",
    "ff = x**2 + y**2 + y*x**2 + 4\n",
    "\n",
    "deriv_x= Derivative(ff,x)\n",
    "\n",
    "Eq(deriv_x,deriv_x.doit())"
   ]
  },
  {
   "cell_type": "code",
   "execution_count": null,
   "id": "9a388a3d",
   "metadata": {},
   "outputs": [],
   "source": []
  }
 ],
 "metadata": {
  "kernelspec": {
   "display_name": "Python 3",
   "language": "python",
   "name": "python3"
  },
  "language_info": {
   "codemirror_mode": {
    "name": "ipython",
    "version": 3
   },
   "file_extension": ".py",
   "mimetype": "text/x-python",
   "name": "python",
   "nbconvert_exporter": "python",
   "pygments_lexer": "ipython3",
   "version": "3.8.8"
  }
 },
 "nbformat": 4,
 "nbformat_minor": 5
}
