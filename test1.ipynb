{
 "cells": [
  {
   "cell_type": "markdown",
   "id": "045421cd",
   "metadata": {},
   "source": [
    "테스xm gk니다. 가끔 너무 느리네요. \n",
    "\n",
    "\n",
    "다시 작성 합니다.\n",
    "\n",
    "\n",
    "잘 되길 바랍니다.\n",
    "\n",
    "\n",
    "\n",
    "$\\infty$ "
   ]
  },
  {
   "cell_type": "code",
   "execution_count": 1,
   "id": "2cbb78f5",
   "metadata": {},
   "outputs": [
    {
     "name": "stdout",
     "output_type": "stream",
     "text": [
      "a\n"
     ]
    }
   ],
   "source": [
    "print(\"a\")"
   ]
  },
  {
   "cell_type": "code",
   "execution_count": null,
   "id": "cfb1593c",
   "metadata": {},
   "outputs": [],
   "source": []
  }
 ],
 "metadata": {
  "kernelspec": {
   "display_name": "Python 3",
   "language": "python",
   "name": "python3"
  },
  "language_info": {
   "codemirror_mode": {
    "name": "ipython",
    "version": 3
   },
   "file_extension": ".py",
   "mimetype": "text/x-python",
   "name": "python",
   "nbconvert_exporter": "python",
   "pygments_lexer": "ipython3",
   "version": "3.8.8"
  }
 },
 "nbformat": 4,
 "nbformat_minor": 5
}
